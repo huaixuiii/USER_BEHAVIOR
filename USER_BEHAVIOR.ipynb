{
 "cells": [
  {
   "cell_type": "code",
   "execution_count": 2,
   "id": "343a15ac",
   "metadata": {},
   "outputs": [],
   "source": [
    "import pandas as pd\n",
    "import numpy as py\n",
    "import matplotlib.pyplot as plt\n",
    "import seaborn as sns\n",
    "import re\n",
    "\n",
    "data_user=pd.read_csv(r'C:\\Users\\12595\\Desktop\\tianchi_mobile_recommend_train_user.csv') #读取csv格式数据"
   ]
  },
  {
   "cell_type": "code",
   "execution_count": 9,
   "id": "c753bff9",
   "metadata": {},
   "outputs": [
    {
     "data": {
      "text/html": [
       "<div>\n",
       "<style scoped>\n",
       "    .dataframe tbody tr th:only-of-type {\n",
       "        vertical-align: middle;\n",
       "    }\n",
       "\n",
       "    .dataframe tbody tr th {\n",
       "        vertical-align: top;\n",
       "    }\n",
       "\n",
       "    .dataframe thead th {\n",
       "        text-align: right;\n",
       "    }\n",
       "</style>\n",
       "<table border=\"1\" class=\"dataframe\">\n",
       "  <thead>\n",
       "    <tr style=\"text-align: right;\">\n",
       "      <th></th>\n",
       "      <th>user_id</th>\n",
       "      <th>item_id</th>\n",
       "      <th>behavior_type</th>\n",
       "      <th>user_geohash</th>\n",
       "      <th>item_category</th>\n",
       "      <th>time</th>\n",
       "    </tr>\n",
       "  </thead>\n",
       "  <tbody>\n",
       "    <tr>\n",
       "      <th>0</th>\n",
       "      <td>98047837</td>\n",
       "      <td>232431562</td>\n",
       "      <td>1</td>\n",
       "      <td>NaN</td>\n",
       "      <td>4245</td>\n",
       "      <td>2014-12-06 02</td>\n",
       "    </tr>\n",
       "    <tr>\n",
       "      <th>1</th>\n",
       "      <td>97726136</td>\n",
       "      <td>383583590</td>\n",
       "      <td>1</td>\n",
       "      <td>NaN</td>\n",
       "      <td>5894</td>\n",
       "      <td>2014-12-09 20</td>\n",
       "    </tr>\n",
       "    <tr>\n",
       "      <th>2</th>\n",
       "      <td>98607707</td>\n",
       "      <td>64749712</td>\n",
       "      <td>1</td>\n",
       "      <td>NaN</td>\n",
       "      <td>2883</td>\n",
       "      <td>2014-12-18 11</td>\n",
       "    </tr>\n",
       "    <tr>\n",
       "      <th>3</th>\n",
       "      <td>98662432</td>\n",
       "      <td>320593836</td>\n",
       "      <td>1</td>\n",
       "      <td>96nn52n</td>\n",
       "      <td>6562</td>\n",
       "      <td>2014-12-06 10</td>\n",
       "    </tr>\n",
       "    <tr>\n",
       "      <th>4</th>\n",
       "      <td>98145908</td>\n",
       "      <td>290208520</td>\n",
       "      <td>1</td>\n",
       "      <td>NaN</td>\n",
       "      <td>13926</td>\n",
       "      <td>2014-12-16 21</td>\n",
       "    </tr>\n",
       "  </tbody>\n",
       "</table>\n",
       "</div>"
      ],
      "text/plain": [
       "    user_id    item_id  behavior_type user_geohash  item_category  \\\n",
       "0  98047837  232431562              1          NaN           4245   \n",
       "1  97726136  383583590              1          NaN           5894   \n",
       "2  98607707   64749712              1          NaN           2883   \n",
       "3  98662432  320593836              1      96nn52n           6562   \n",
       "4  98145908  290208520              1          NaN          13926   \n",
       "\n",
       "            time  \n",
       "0  2014-12-06 02  \n",
       "1  2014-12-09 20  \n",
       "2  2014-12-18 11  \n",
       "3  2014-12-06 10  \n",
       "4  2014-12-16 21  "
      ]
     },
     "execution_count": 9,
     "metadata": {},
     "output_type": "execute_result"
    }
   ],
   "source": [
    "data_user.head(5)   \n",
    "\n",
    "'''\n",
    "item_id 商品id ;\n",
    "behavior_type 用户行为类型（包含点击、收藏、加购物车、支付四种行为，分别用数字1、2、3、4表示）;\n",
    "user_geohash 地理位置 ; \n",
    "item_category 商品种类 \n",
    "'''"
   ]
  },
  {
   "cell_type": "code",
   "execution_count": 8,
   "id": "6067ddce",
   "metadata": {
    "scrolled": true
   },
   "outputs": [
    {
     "name": "stdout",
     "output_type": "stream",
     "text": [
      "user_geohash    8334824\n",
      "dtype: int64\n"
     ]
    }
   ],
   "source": [
    "#①缺失值处理\n",
    "#pandas模块\n",
    "\n",
    "missingTotal=data_user.isnull().sum()   #统计每列缺失值的数目\n",
    "missingExist=missingTotal[missingTotal>0]  #筛选缺失值大于0的列\n",
    "missingExist=missingExist.sort_values(ascending=False)  #对他们进行排序（按照缺失值大小） ascending排列顺序 False：降序\n",
    "print(missingExist)"
   ]
  },
  {
   "cell_type": "code",
   "execution_count": null,
   "id": "3108ed69",
   "metadata": {},
   "outputs": [],
   "source": [
    "#地理信息采集过程加密，这里不进行处理"
   ]
  },
  {
   "cell_type": "code",
   "execution_count": 4,
   "id": "fb66de34",
   "metadata": {},
   "outputs": [
    {
     "data": {
      "text/html": [
       "<div>\n",
       "<style scoped>\n",
       "    .dataframe tbody tr th:only-of-type {\n",
       "        vertical-align: middle;\n",
       "    }\n",
       "\n",
       "    .dataframe tbody tr th {\n",
       "        vertical-align: top;\n",
       "    }\n",
       "\n",
       "    .dataframe thead th {\n",
       "        text-align: right;\n",
       "    }\n",
       "</style>\n",
       "<table border=\"1\" class=\"dataframe\">\n",
       "  <thead>\n",
       "    <tr style=\"text-align: right;\">\n",
       "      <th></th>\n",
       "      <th>user_id</th>\n",
       "      <th>item_id</th>\n",
       "      <th>behavior_type</th>\n",
       "      <th>user_geohash</th>\n",
       "      <th>item_category</th>\n",
       "      <th>time</th>\n",
       "      <th>date</th>\n",
       "      <th>hour</th>\n",
       "    </tr>\n",
       "  </thead>\n",
       "  <tbody>\n",
       "    <tr>\n",
       "      <th>1505077</th>\n",
       "      <td>73462715</td>\n",
       "      <td>378485233</td>\n",
       "      <td>1</td>\n",
       "      <td>NaN</td>\n",
       "      <td>9130</td>\n",
       "      <td>2014-11-18 00</td>\n",
       "      <td>2014-11-18</td>\n",
       "      <td>00</td>\n",
       "    </tr>\n",
       "    <tr>\n",
       "      <th>8686537</th>\n",
       "      <td>36090137</td>\n",
       "      <td>236748115</td>\n",
       "      <td>1</td>\n",
       "      <td>NaN</td>\n",
       "      <td>10523</td>\n",
       "      <td>2014-11-18 00</td>\n",
       "      <td>2014-11-18</td>\n",
       "      <td>00</td>\n",
       "    </tr>\n",
       "    <tr>\n",
       "      <th>4035788</th>\n",
       "      <td>40459733</td>\n",
       "      <td>155218177</td>\n",
       "      <td>1</td>\n",
       "      <td>NaN</td>\n",
       "      <td>8561</td>\n",
       "      <td>2014-11-18 00</td>\n",
       "      <td>2014-11-18</td>\n",
       "      <td>00</td>\n",
       "    </tr>\n",
       "    <tr>\n",
       "      <th>10113411</th>\n",
       "      <td>814199</td>\n",
       "      <td>149808524</td>\n",
       "      <td>1</td>\n",
       "      <td>NaN</td>\n",
       "      <td>9053</td>\n",
       "      <td>2014-11-18 00</td>\n",
       "      <td>2014-11-18</td>\n",
       "      <td>00</td>\n",
       "    </tr>\n",
       "    <tr>\n",
       "      <th>2936757</th>\n",
       "      <td>113309982</td>\n",
       "      <td>5730861</td>\n",
       "      <td>1</td>\n",
       "      <td>NaN</td>\n",
       "      <td>3783</td>\n",
       "      <td>2014-11-18 00</td>\n",
       "      <td>2014-11-18</td>\n",
       "      <td>00</td>\n",
       "    </tr>\n",
       "  </tbody>\n",
       "</table>\n",
       "</div>"
      ],
      "text/plain": [
       "            user_id    item_id  behavior_type user_geohash  item_category  \\\n",
       "1505077    73462715  378485233              1          NaN           9130   \n",
       "8686537    36090137  236748115              1          NaN          10523   \n",
       "4035788    40459733  155218177              1          NaN           8561   \n",
       "10113411     814199  149808524              1          NaN           9053   \n",
       "2936757   113309982    5730861              1          NaN           3783   \n",
       "\n",
       "                   time        date hour  \n",
       "1505077   2014-11-18 00  2014-11-18   00  \n",
       "8686537   2014-11-18 00  2014-11-18   00  \n",
       "4035788   2014-11-18 00  2014-11-18   00  \n",
       "10113411  2014-11-18 00  2014-11-18   00  \n",
       "2936757   2014-11-18 00  2014-11-18   00  "
      ]
     },
     "execution_count": 4,
     "metadata": {},
     "output_type": "execute_result"
    }
   ],
   "source": [
    "#'time'列数据既包括年月日，也包括了小时数，因此在数据类型转化前，需要对'time'列数据拆分为'date'列和'hour'列\n",
    "#re 模块\n",
    "data_user['date']=data_user['time'].map(lambda s:re.compile(' ').split(s)[0])  #map(function, iterable, ...)\n",
    "data_user['hour']=data_user['time'].map(lambda s:re.compile(' ').split(s)[1])\n",
    "data_user.head()"
   ]
  },
  {
   "cell_type": "code",
   "execution_count": 5,
   "id": "e47d018f",
   "metadata": {},
   "outputs": [
    {
     "data": {
      "text/plain": [
       "user_id           int64\n",
       "item_id           int64\n",
       "behavior_type     int64\n",
       "user_geohash     object\n",
       "item_category     int64\n",
       "time             object\n",
       "date             object\n",
       "hour             object\n",
       "dtype: object"
      ]
     },
     "execution_count": 5,
     "metadata": {},
     "output_type": "execute_result"
    }
   ],
   "source": [
    "#查看data_user数据集数据类型：\n",
    "data_user.dtypes"
   ]
  },
  {
   "cell_type": "code",
   "execution_count": 6,
   "id": "9eb63f1e",
   "metadata": {},
   "outputs": [
    {
     "data": {
      "text/plain": [
       "user_id                   int64\n",
       "item_id                   int64\n",
       "behavior_type             int64\n",
       "user_geohash             object\n",
       "item_category             int64\n",
       "time             datetime64[ns]\n",
       "date             datetime64[ns]\n",
       "hour                      int64\n",
       "dtype: object"
      ]
     },
     "execution_count": 6,
     "metadata": {},
     "output_type": "execute_result"
    }
   ],
   "source": [
    "#发现time列和date列应该转化为日期类数据类型，hour列应该是numpy的整数类型。\n",
    "\n",
    "#数据类型转化\n",
    "\n",
    "data_user['date']=pd.to_datetime(data_user['date'])\n",
    "data_user['time']=pd.to_datetime(data_user['time'])\n",
    "data_user['hour']=data_user['hour'].astype('int64')\n",
    "data_user.dtypes"
   ]
  },
  {
   "cell_type": "code",
   "execution_count": 9,
   "id": "5f02d044",
   "metadata": {},
   "outputs": [
    {
     "data": {
      "text/html": [
       "<div>\n",
       "<style scoped>\n",
       "    .dataframe tbody tr th:only-of-type {\n",
       "        vertical-align: middle;\n",
       "    }\n",
       "\n",
       "    .dataframe tbody tr th {\n",
       "        vertical-align: top;\n",
       "    }\n",
       "\n",
       "    .dataframe thead th {\n",
       "        text-align: right;\n",
       "    }\n",
       "</style>\n",
       "<table border=\"1\" class=\"dataframe\">\n",
       "  <thead>\n",
       "    <tr style=\"text-align: right;\">\n",
       "      <th></th>\n",
       "      <th>user_id</th>\n",
       "      <th>item_id</th>\n",
       "      <th>behavior_type</th>\n",
       "      <th>item_category</th>\n",
       "      <th>hour</th>\n",
       "    </tr>\n",
       "  </thead>\n",
       "  <tbody>\n",
       "    <tr>\n",
       "      <th>count</th>\n",
       "      <td>1.225691e+07</td>\n",
       "      <td>1.225691e+07</td>\n",
       "      <td>1.225691e+07</td>\n",
       "      <td>1.225691e+07</td>\n",
       "      <td>1.225691e+07</td>\n",
       "    </tr>\n",
       "    <tr>\n",
       "      <th>mean</th>\n",
       "      <td>7.170732e+07</td>\n",
       "      <td>2.023084e+08</td>\n",
       "      <td>1.105271e+00</td>\n",
       "      <td>6.846162e+03</td>\n",
       "      <td>1.481799e+01</td>\n",
       "    </tr>\n",
       "    <tr>\n",
       "      <th>std</th>\n",
       "      <td>4.122920e+07</td>\n",
       "      <td>1.167397e+08</td>\n",
       "      <td>4.572662e-01</td>\n",
       "      <td>3.809922e+03</td>\n",
       "      <td>6.474778e+00</td>\n",
       "    </tr>\n",
       "    <tr>\n",
       "      <th>min</th>\n",
       "      <td>4.913000e+03</td>\n",
       "      <td>6.400000e+01</td>\n",
       "      <td>1.000000e+00</td>\n",
       "      <td>2.000000e+00</td>\n",
       "      <td>0.000000e+00</td>\n",
       "    </tr>\n",
       "    <tr>\n",
       "      <th>25%</th>\n",
       "      <td>3.584965e+07</td>\n",
       "      <td>1.014130e+08</td>\n",
       "      <td>1.000000e+00</td>\n",
       "      <td>3.721000e+03</td>\n",
       "      <td>1.000000e+01</td>\n",
       "    </tr>\n",
       "    <tr>\n",
       "      <th>50%</th>\n",
       "      <td>7.292804e+07</td>\n",
       "      <td>2.021359e+08</td>\n",
       "      <td>1.000000e+00</td>\n",
       "      <td>6.209000e+03</td>\n",
       "      <td>1.600000e+01</td>\n",
       "    </tr>\n",
       "    <tr>\n",
       "      <th>75%</th>\n",
       "      <td>1.073774e+08</td>\n",
       "      <td>3.035405e+08</td>\n",
       "      <td>1.000000e+00</td>\n",
       "      <td>1.029000e+04</td>\n",
       "      <td>2.000000e+01</td>\n",
       "    </tr>\n",
       "    <tr>\n",
       "      <th>max</th>\n",
       "      <td>1.424559e+08</td>\n",
       "      <td>4.045625e+08</td>\n",
       "      <td>4.000000e+00</td>\n",
       "      <td>1.408000e+04</td>\n",
       "      <td>2.300000e+01</td>\n",
       "    </tr>\n",
       "  </tbody>\n",
       "</table>\n",
       "</div>"
      ],
      "text/plain": [
       "            user_id       item_id  behavior_type  item_category          hour\n",
       "count  1.225691e+07  1.225691e+07   1.225691e+07   1.225691e+07  1.225691e+07\n",
       "mean   7.170732e+07  2.023084e+08   1.105271e+00   6.846162e+03  1.481799e+01\n",
       "std    4.122920e+07  1.167397e+08   4.572662e-01   3.809922e+03  6.474778e+00\n",
       "min    4.913000e+03  6.400000e+01   1.000000e+00   2.000000e+00  0.000000e+00\n",
       "25%    3.584965e+07  1.014130e+08   1.000000e+00   3.721000e+03  1.000000e+01\n",
       "50%    7.292804e+07  2.021359e+08   1.000000e+00   6.209000e+03  1.600000e+01\n",
       "75%    1.073774e+08  3.035405e+08   1.000000e+00   1.029000e+04  2.000000e+01\n",
       "max    1.424559e+08  4.045625e+08   4.000000e+00   1.408000e+04  2.300000e+01"
      ]
     },
     "execution_count": 9,
     "metadata": {},
     "output_type": "execute_result"
    }
   ],
   "source": [
    "data_user = data_user.sort_values(by='time',ascending=True) #按time升序排序\n",
    "data_user = data_user.reset_index(drop=True)  #重新建立索引\n",
    "data_user.describe()  #用于查看一些基本的统计详细信息"
   ]
  },
  {
   "cell_type": "code",
   "execution_count": 10,
   "id": "ff5cf300",
   "metadata": {},
   "outputs": [
    {
     "data": {
      "text/plain": [
       "<AxesSubplot:>"
      ]
     },
     "execution_count": 10,
     "metadata": {},
     "output_type": "execute_result"
    },
    {
     "data": {
      "image/png": "[encoded data removed]",
      "text/plain": [
       "<Figure size 432x288 with 1 Axes>"
      ]
     },
     "metadata": {
      "needs_background": "light"
     },
     "output_type": "display_data"
    }
   ],
   "source": [
    "data_user.boxplot()  #箱型图"
   ]
  },
  {
   "cell_type": "code",
   "execution_count": null,
   "id": "1c113bfe",
   "metadata": {},
   "outputs": [],
   "source": [
    "#通过观察数据集的四分位数，总数，平均值，方差等，发现数据集并无异常值存在。"
   ]
  },
  {
   "cell_type": "code",
   "execution_count": 15,
   "id": "74008f3f",
   "metadata": {},
   "outputs": [
    {
     "data": {
      "text/plain": [
       "Text(0.5, 1.0, 'pv/uv_daily')"
      ]
     },
     "execution_count": 15,
     "metadata": {},
     "output_type": "execute_result"
    },
    {
     "data": {
      "image/png": "[encoded data removed]",
      "text/plain": [
       "<Figure size 432x288 with 2 Axes>"
      ]
     },
     "metadata": {
      "needs_background": "light"
     },
     "output_type": "display_data"
    }
   ],
   "source": [
    "#日访问量分析——pv和uv分析\n",
    "#PV(访问量)：即Page View, 具体是指网站的是页面浏览量或者点击量，页面被刷新一次就计算一次。\n",
    "#UV(独立访客)：即Unique Visitor,访问您网站的一台电脑客户端为一个访客。\n",
    "\n",
    "pv_daily=data_user.groupby('date')['user_id'].count().reset_index().rename(columns={'user_id':'pv'}) #每天分组，记录每天的user_id条数\n",
    "uv_daily=data_user.groupby('date')['user_id'].apply(lambda x:x.drop_duplicates().count()).reset_index().rename(columns={'user_id':'uv'})#去重计数\n",
    "fig,axes=plt.subplots(2,1,sharex=True)  #2行1列的画布，x轴相同\n",
    "pv_daily.plot(x='date',y='pv',ax=axes[0])  \n",
    "uv_daily.plot(x='date',y='uv',ax=axes[1])\n",
    "axes[0].set_title('pv/uv_daily')   #设置pv的表头"
   ]
  },
  {
   "cell_type": "code",
   "execution_count": null,
   "id": "f543f132",
   "metadata": {},
   "outputs": [],
   "source": [
    "#结果显示如上图所示，在双十二期间，pv和uv访问量达到峰值，并且可以发现，uv和pv两个访问量数值差距比较大。\n",
    "#因为数据集总人数大约是10000人左右，因此，通过uv值可以分析出双十二期间淘宝用户的日活跃大概是45%浮动。"
   ]
  },
  {
   "cell_type": "code",
   "execution_count": 16,
   "id": "aff9a346",
   "metadata": {},
   "outputs": [
    {
     "data": {
      "text/plain": [
       "Text(0.5, 1.0, 'uv_hour')"
      ]
     },
     "execution_count": 16,
     "metadata": {},
     "output_type": "execute_result"
    },
    {
     "data": {
      "image/png": "[encoded data removed]",
      "text/plain": [
       "<Figure size 432x288 with 2 Axes>"
      ]
     },
     "metadata": {
      "needs_background": "light"
     },
     "output_type": "display_data"
    }
   ],
   "source": [
    "#小时访问量分析\n",
    "#pv_hour记录每小时用户操作次数，uv_hour记录每小时不同的上线用户数量\n",
    "pv_hour=data_user.groupby('hour')['user_id'].count().reset_index().rename(columns={'user_id':'pv'})\n",
    "uv_hour=data_user.groupby('hour')['user_id'].apply(lambda x:x.drop_duplicates().count()).reset_index().rename(columns={'user_id':'uv'})\n",
    "fig,axes=plt.subplots(2,1,sharex=True)\n",
    "pv_hour.plot(x='hour',y='pv',ax=axes[0])\n",
    "uv_hour.plot(x='hour',y='uv',ax=axes[1])\n",
    "axes[0].set_title('pv_hour')\n",
    "axes[0].set_title('uv_hour')"
   ]
  },
  {
   "cell_type": "code",
   "execution_count": null,
   "id": "e3a5694e",
   "metadata": {},
   "outputs": [],
   "source": [
    "#凌晨0-5点期间波动情况相同，都呈下降趋势，访问量都比较小，同时在晚上18：00左右，pv波动情况比较剧烈，相比来看uv不太明显，因此晚上18：00以后是淘宝用户访问app的活跃时间段。"
   ]
  },
  {
   "cell_type": "code",
   "execution_count": 17,
   "id": "80dde9d4",
   "metadata": {},
   "outputs": [
    {
     "data": {
      "text/plain": [
       "Text(0.5, 1.0, 'pv_different_behavior_type_except1')"
      ]
     },
     "execution_count": 17,
     "metadata": {},
     "output_type": "execute_result"
    },
    {
     "data": {
      "image/png": "[encoded data removed]",
      "text/plain": [
       "<Figure size 432x288 with 2 Axes>"
      ]
     },
     "metadata": {
      "needs_background": "light"
     },
     "output_type": "display_data"
    }
   ],
   "source": [
    "#不同行为类型用户分析\n",
    "pv_detail=data_user.groupby(['behavior_type','hour'])['user_id'].count().reset_index().rename(columns={'user_id':'total_pv'})\n",
    "fig,axes=plt.subplots(2,1,sharex=True)\n",
    "#seabearn pointplot（点图）\n",
    "sns.pointplot(x='hour',y='total_pv',hue='behavior_type',data=pv_detail,ax=axes[0])\n",
    "sns.pointplot(x='hour',y='total_pv',hue='behavior_type',data=pv_detail[pv_detail.behavior_type!=1],ax=axes[1])#除了行为1（点击）的用户PV\n",
    "axes[0].set_title('pv_different_behavior_type')\n",
    "axes[1].set_title('pv_different_behavior_type_except1')"
   ]
  },
  {
   "cell_type": "code",
   "execution_count": null,
   "id": "1026bf9e",
   "metadata": {},
   "outputs": [],
   "source": [
    "#点击这一用户行为相比较于其他三类用户行为，pv访问量较高，同时四种用户行为的波动情况基本一致，因此晚上这一时间段不管哪一种用户行为，pv访问量都是最高的。从图2可以看出，加入购物车这一用户行为的pv总量高于收藏的总量，因此在后续漏斗流失分析中，用户类型3应该在2之前分析。"
   ]
  },
  {
   "cell_type": "code",
   "execution_count": 26,
   "id": "079a4195",
   "metadata": {},
   "outputs": [
    {
     "data": {
      "text/plain": [
       "Text(0.5, 1.0, 'daily_user_buy')"
      ]
     },
     "execution_count": 26,
     "metadata": {},
     "output_type": "execute_result"
    },
    {
     "data": {
      "image/png": "[encoded data removed]",
      "text/plain": [
       "<Figure size 432x288 with 1 Axes>"
      ]
     },
     "metadata": {
      "needs_background": "light"
     },
     "output_type": "display_data"
    }
   ],
   "source": [
    "#用户支付次数情况分析\n",
    "data_user_buy=data_user[data_user.behavior_type==4].groupby('user_id')['behavior_type'].count()\n",
    "sns.distplot(data_user_buy,kde=False) #直方图   支付次数的分布情况\n",
    "plt.title('daily_user_buy')"
   ]
  },
  {
   "cell_type": "code",
   "execution_count": null,
   "id": "796c9e28",
   "metadata": {},
   "outputs": [],
   "source": [
    "#淘宝用户消费次数普遍在10次以内，因此需要重点关注购买次数在10次以上的消费者用户群体。"
   ]
  },
  {
   "cell_type": "code",
   "execution_count": 27,
   "id": "eb7a13bb",
   "metadata": {},
   "outputs": [
    {
     "data": {
      "text/plain": [
       "Text(0.5, 1.0, 'daily_ARPPU')"
      ]
     },
     "execution_count": 27,
     "metadata": {},
     "output_type": "execute_result"
    },
    {
     "data": {
      "image/png": "[encoded data removed]",
      "text/plain": [
       "<Figure size 432x288 with 1 Axes>"
      ]
     },
     "metadata": {
      "needs_background": "light"
     },
     "output_type": "display_data"
    }
   ],
   "source": [
    "#日ARPPU\n",
    "#ARPPU（average revenue per paying user）是指从每位付费用户身上获得的收入，它反映的是每个付费用户的平均付费额度。\n",
    "#因为本数据集中没有消费金额，因此在计算过程中用支付次数代替消费金额\n",
    "\n",
    "data_use_buy1=data_user[data_user.behavior_type==4].groupby(['date','user_id'])['behavior_type'].count().reset_index().rename(columns={'behavior_type':'total'})\n",
    "data_use_buy1.groupby('date').apply(lambda x:x.total.sum()/x.total.count()).plot()  # 每天的支付次数（x.total）之和/支付次数的人数\n",
    "plt.title('daily_ARPPU')"
   ]
  },
  {
   "cell_type": "code",
   "execution_count": null,
   "id": "0cd72be6",
   "metadata": {},
   "outputs": [],
   "source": [
    "#平均每天消费次数在2次左右波动，双十二期间消费次数达到最高值。"
   ]
  },
  {
   "cell_type": "code",
   "execution_count": 30,
   "id": "6d8e842b",
   "metadata": {},
   "outputs": [
    {
     "data": {
      "text/html": [
       "<div>\n",
       "<style scoped>\n",
       "    .dataframe tbody tr th:only-of-type {\n",
       "        vertical-align: middle;\n",
       "    }\n",
       "\n",
       "    .dataframe tbody tr th {\n",
       "        vertical-align: top;\n",
       "    }\n",
       "\n",
       "    .dataframe thead th {\n",
       "        text-align: right;\n",
       "    }\n",
       "</style>\n",
       "<table border=\"1\" class=\"dataframe\">\n",
       "  <thead>\n",
       "    <tr style=\"text-align: right;\">\n",
       "      <th></th>\n",
       "      <th>date</th>\n",
       "      <th>user_id</th>\n",
       "      <th>behavior_type</th>\n",
       "      <th>total</th>\n",
       "    </tr>\n",
       "  </thead>\n",
       "  <tbody>\n",
       "    <tr>\n",
       "      <th>0</th>\n",
       "      <td>2014-11-18</td>\n",
       "      <td>4913</td>\n",
       "      <td>1</td>\n",
       "      <td>27</td>\n",
       "    </tr>\n",
       "    <tr>\n",
       "      <th>1</th>\n",
       "      <td>2014-11-18</td>\n",
       "      <td>4913</td>\n",
       "      <td>2</td>\n",
       "      <td>1</td>\n",
       "    </tr>\n",
       "    <tr>\n",
       "      <th>2</th>\n",
       "      <td>2014-11-18</td>\n",
       "      <td>7591</td>\n",
       "      <td>1</td>\n",
       "      <td>4</td>\n",
       "    </tr>\n",
       "    <tr>\n",
       "      <th>3</th>\n",
       "      <td>2014-11-18</td>\n",
       "      <td>12645</td>\n",
       "      <td>1</td>\n",
       "      <td>25</td>\n",
       "    </tr>\n",
       "    <tr>\n",
       "      <th>4</th>\n",
       "      <td>2014-11-18</td>\n",
       "      <td>54056</td>\n",
       "      <td>1</td>\n",
       "      <td>13</td>\n",
       "    </tr>\n",
       "    <tr>\n",
       "      <th>5</th>\n",
       "      <td>2014-11-18</td>\n",
       "      <td>54056</td>\n",
       "      <td>2</td>\n",
       "      <td>1</td>\n",
       "    </tr>\n",
       "    <tr>\n",
       "      <th>6</th>\n",
       "      <td>2014-11-18</td>\n",
       "      <td>54056</td>\n",
       "      <td>4</td>\n",
       "      <td>1</td>\n",
       "    </tr>\n",
       "    <tr>\n",
       "      <th>7</th>\n",
       "      <td>2014-11-18</td>\n",
       "      <td>79824</td>\n",
       "      <td>1</td>\n",
       "      <td>40</td>\n",
       "    </tr>\n",
       "    <tr>\n",
       "      <th>8</th>\n",
       "      <td>2014-11-18</td>\n",
       "      <td>79824</td>\n",
       "      <td>4</td>\n",
       "      <td>2</td>\n",
       "    </tr>\n",
       "    <tr>\n",
       "      <th>9</th>\n",
       "      <td>2014-11-18</td>\n",
       "      <td>88930</td>\n",
       "      <td>1</td>\n",
       "      <td>75</td>\n",
       "    </tr>\n",
       "  </tbody>\n",
       "</table>\n",
       "</div>"
      ],
      "text/plain": [
       "        date  user_id  behavior_type  total\n",
       "0 2014-11-18     4913              1     27\n",
       "1 2014-11-18     4913              2      1\n",
       "2 2014-11-18     7591              1      4\n",
       "3 2014-11-18    12645              1     25\n",
       "4 2014-11-18    54056              1     13\n",
       "5 2014-11-18    54056              2      1\n",
       "6 2014-11-18    54056              4      1\n",
       "7 2014-11-18    79824              1     40\n",
       "8 2014-11-18    79824              4      2\n",
       "9 2014-11-18    88930              1     75"
      ]
     },
     "execution_count": 30,
     "metadata": {},
     "output_type": "execute_result"
    }
   ],
   "source": [
    "#日ARPU\n",
    "#ARPU(Average Revenue Per User) ：平均每用户收入，可通过 总收入/AU 计算得出。它可以衡量产品的盈利能力和发展活力。\n",
    "#消费次数替代金额\n",
    "\n",
    "data_user['operation']=1  #新增一列 值都为1\n",
    "data_use_buy2=data_user.groupby(['date','user_id','behavior_type'])['operation'].count().reset_index().rename(columns={'operation':'total'})\n",
    "data_use_buy2.head(10)"
   ]
  },
  {
   "cell_type": "code",
   "execution_count": 31,
   "id": "d96926c6",
   "metadata": {},
   "outputs": [
    {
     "data": {
      "text/plain": [
       "Text(0.5, 1.0, 'daily_ARPU')"
      ]
     },
     "execution_count": 31,
     "metadata": {},
     "output_type": "execute_result"
    },
    {
     "data": {
      "image/png": "[encoded data removed]",
      "text/plain": [
       "<Figure size 432x288 with 1 Axes>"
      ]
     },
     "metadata": {
      "needs_background": "light"
     },
     "output_type": "display_data"
    }
   ],
   "source": [
    "data_use_buy2.groupby('date').apply(lambda x:x[x.behavior_type==4].total.sum()/len(x.user_id.unique())).plot() #每天4支付的次数/所有用户数\n",
    "plt.title('daily_ARPU')"
   ]
  },
  {
   "cell_type": "code",
   "execution_count": null,
   "id": "18102233",
   "metadata": {},
   "outputs": [],
   "source": [
    "#淘宝活跃用户（有过操作行为的用户）平均每天消费次数比较低，在0.45次左右，双十二期间达到最高值，有2次左右。"
   ]
  },
  {
   "cell_type": "code",
   "execution_count": 32,
   "id": "95c47c6f",
   "metadata": {},
   "outputs": [
    {
     "data": {
      "text/plain": [
       "Text(0.5, 1.0, 'daily_afford_rate')"
      ]
     },
     "execution_count": 32,
     "metadata": {},
     "output_type": "execute_result"
    },
    {
     "data": {
      "image/png": "[encoded data removed]",
      "text/plain": [
       "<Figure size 432x288 with 1 Axes>"
      ]
     },
     "metadata": {
      "needs_background": "light"
     },
     "output_type": "display_data"
    }
   ],
   "source": [
    "#付费率 付费率=消费人数/活跃用户人数（总人数）\n",
    "\n",
    "data_use_buy2.groupby('date').apply(lambda x:x[x.behavior_type==4].total.count()/len(x.user_id.unique())).plot() #把刚刚的sum改为count\n",
    "plt.title('daily_afford_rate')"
   ]
  },
  {
   "cell_type": "code",
   "execution_count": null,
   "id": "04b0794c",
   "metadata": {},
   "outputs": [],
   "source": [
    "#每天活跃用户人群中，大概25%的用户具有消费行为，在双十二期间消费用户人数最多。"
   ]
  },
  {
   "cell_type": "code",
   "execution_count": 33,
   "id": "a9c6dea9",
   "metadata": {},
   "outputs": [
    {
     "name": "stderr",
     "output_type": "stream",
     "text": [
      "F:\\anaconda\\lib\\site-packages\\seaborn\\distributions.py:2619: FutureWarning: `distplot` is a deprecated function and will be removed in a future version. Please adapt your code to use either `displot` (a figure-level function with similar flexibility) or `histplot` (an axes-level function for histograms).\n",
      "  warnings.warn(msg, FutureWarning)\n"
     ]
    },
    {
     "name": "stdout",
     "output_type": "stream",
     "text": [
      "大多数用户消费：1次\n"
     ]
    },
    {
     "data": {
      "image/png": "[encoded data removed]",
      "text/plain": [
       "<Figure size 432x288 with 1 Axes>"
      ]
     },
     "metadata": {
      "needs_background": "light"
     },
     "output_type": "display_data"
    }
   ],
   "source": [
    "#同一时间段用户消费次数分布\n",
    "\n",
    "data_user_buy3=data_user[data_user.behavior_type==4].groupby(['user_id','date','hour'])['operation'].sum().rename('buy_count')\n",
    "sns.distplot(data_user_buy3)\n",
    "print('大多数用户消费：{}次'.format(data_user_buy3.mode()[0])) #选择第一个众数进行填充（众数可能不止一个）"
   ]
  },
  {
   "cell_type": "code",
   "execution_count": 34,
   "id": "3fd0394e",
   "metadata": {},
   "outputs": [
    {
     "name": "stdout",
     "output_type": "stream",
     "text": [
      "复购率: 0.8717\n"
     ]
    }
   ],
   "source": [
    "#复购情况分析\n",
    "\n",
    "#即两天以上有购买行为,一天多次购买算一次  复购率=有复购行为的用户数/有购买行为的用户总数\n",
    "\n",
    "date_rebuy=data_user[data_user.behavior_type==4].groupby('user_id')['date'].apply(lambda x:len(x.unique())).rename('rebuy_count')\n",
    "print('复购率:',round(date_rebuy[date_rebuy>=2].count()/date_rebuy.count(),4))    #round 四舍五入"
   ]
  },
  {
   "cell_type": "code",
   "execution_count": 35,
   "id": "2f911d0b",
   "metadata": {},
   "outputs": [
    {
     "name": "stdout",
     "output_type": "stream",
     "text": [
      "多数用户复购次数：0次\n"
     ]
    },
    {
     "name": "stderr",
     "output_type": "stream",
     "text": [
      "F:\\anaconda\\lib\\site-packages\\seaborn\\distributions.py:2619: FutureWarning: `distplot` is a deprecated function and will be removed in a future version. Please adapt your code to use either `displot` (a figure-level function with similar flexibility) or `histplot` (an axes-level function for histograms).\n",
      "  warnings.warn(msg, FutureWarning)\n"
     ]
    },
    {
     "data": {
      "image/png": "[encoded data removed]",
      "text/plain": [
       "<Figure size 432x288 with 1 Axes>"
      ]
     },
     "metadata": {
      "needs_background": "light"
     },
     "output_type": "display_data"
    }
   ],
   "source": [
    "sns.distplot(date_rebuy-1)  #date_rebuy购买次数 -1表示复购次数\n",
    "plt.title('rebuy_user')\n",
    "print('多数用户复购次数：{}次'.format((date_rebuy-1).mode()[0]))  "
   ]
  },
  {
   "cell_type": "code",
   "execution_count": 40,
   "id": "5b62dfa5",
   "metadata": {},
   "outputs": [
    {
     "data": {
      "text/plain": [
       "Text(0, 0.5, 'gap_count')"
      ]
     },
     "execution_count": 40,
     "metadata": {},
     "output_type": "execute_result"
    },
    {
     "data": {
      "image/png": "[encoded data removed]",
      "text/plain": [
       "<Figure size 432x288 with 1 Axes>"
      ]
     },
     "metadata": {
      "needs_background": "light"
     },
     "output_type": "display_data"
    }
   ],
   "source": [
    "#所有复购时间间隔消费次数分布\n",
    "\n",
    "data_day_buy=data_user[data_user.behavior_type==4].groupby(['user_id','date']).operation.count().reset_index()  #每个用户每天的支付次数\n",
    "data_user_buy4=data_day_buy.groupby('user_id').date.apply(lambda x:x.sort_values().diff(1).dropna())  #diff date向下移动1次 由前减去后的差值  dropna 删除所有包含NaN的行\n",
    "data_user_buy4=data_user_buy4.map(lambda x:x.days) \n",
    "data_user_buy4.value_counts().plot(kind='bar')  #value_counts 统计间隔次数出现的频率 bar柱状图\n",
    "plt.title('time_gap')\n",
    "plt.xlabel('gap_day')\n",
    "plt.ylabel('gap_count')"
   ]
  },
  {
   "cell_type": "code",
   "execution_count": null,
   "id": "d6b2c084",
   "metadata": {},
   "outputs": [],
   "source": [
    "#消费次数随着消费时间间隔的增加而不断下降，在1-10天之内复购次数比较多，10天之后复购次数淘宝用户很少在进行复购"
   ]
  },
  {
   "cell_type": "code",
   "execution_count": 41,
   "id": "3577677c",
   "metadata": {},
   "outputs": [
    {
     "name": "stderr",
     "output_type": "stream",
     "text": [
      "F:\\anaconda\\lib\\site-packages\\seaborn\\distributions.py:2619: FutureWarning: `distplot` is a deprecated function and will be removed in a future version. Please adapt your code to use either `displot` (a figure-level function with similar flexibility) or `histplot` (an axes-level function for histograms).\n",
      "  warnings.warn(msg, FutureWarning)\n"
     ]
    },
    {
     "data": {
      "text/plain": [
       "<AxesSubplot:xlabel='date', ylabel='Density'>"
      ]
     },
     "execution_count": 41,
     "metadata": {},
     "output_type": "execute_result"
    },
    {
     "data": {
      "image/png": "[encoded data removed]",
      "text/plain": [
       "<Figure size 432x288 with 1 Axes>"
      ]
     },
     "metadata": {
      "needs_background": "light"
     },
     "output_type": "display_data"
    }
   ],
   "source": [
    "#不同用户平均复购时间分析\n",
    "sns.distplot(data_user_buy4.reset_index().groupby('user_id').date.mean())"
   ]
  },
  {
   "cell_type": "code",
   "execution_count": null,
   "id": "63dbb38c",
   "metadata": {},
   "outputs": [],
   "source": [
    "#多数淘宝用户平均复购时间集中在1-5天时间间隔内。"
   ]
  },
  {
   "cell_type": "code",
   "execution_count": 50,
   "id": "342affc0",
   "metadata": {},
   "outputs": [
    {
     "data": {
      "text/html": [
       "<div>\n",
       "<style scoped>\n",
       "    .dataframe tbody tr th:only-of-type {\n",
       "        vertical-align: middle;\n",
       "    }\n",
       "\n",
       "    .dataframe tbody tr th {\n",
       "        vertical-align: top;\n",
       "    }\n",
       "\n",
       "    .dataframe thead th {\n",
       "        text-align: right;\n",
       "    }\n",
       "</style>\n",
       "<table border=\"1\" class=\"dataframe\">\n",
       "  <thead>\n",
       "    <tr style=\"text-align: right;\">\n",
       "      <th></th>\n",
       "      <th>user_id</th>\n",
       "      <th>item_id</th>\n",
       "      <th>user_geohash</th>\n",
       "      <th>item_category</th>\n",
       "      <th>time</th>\n",
       "      <th>date</th>\n",
       "      <th>hour</th>\n",
       "      <th>operation</th>\n",
       "    </tr>\n",
       "    <tr>\n",
       "      <th>behavior_type</th>\n",
       "      <th></th>\n",
       "      <th></th>\n",
       "      <th></th>\n",
       "      <th></th>\n",
       "      <th></th>\n",
       "      <th></th>\n",
       "      <th></th>\n",
       "      <th></th>\n",
       "    </tr>\n",
       "  </thead>\n",
       "  <tbody>\n",
       "    <tr>\n",
       "      <th>1</th>\n",
       "      <td>11550581</td>\n",
       "      <td>11550581</td>\n",
       "      <td>3704666</td>\n",
       "      <td>11550581</td>\n",
       "      <td>11550581</td>\n",
       "      <td>11550581</td>\n",
       "      <td>11550581</td>\n",
       "      <td>11550581</td>\n",
       "    </tr>\n",
       "    <tr>\n",
       "      <th>2</th>\n",
       "      <td>242556</td>\n",
       "      <td>242556</td>\n",
       "      <td>74365</td>\n",
       "      <td>242556</td>\n",
       "      <td>242556</td>\n",
       "      <td>242556</td>\n",
       "      <td>242556</td>\n",
       "      <td>242556</td>\n",
       "    </tr>\n",
       "    <tr>\n",
       "      <th>3</th>\n",
       "      <td>343564</td>\n",
       "      <td>343564</td>\n",
       "      <td>104443</td>\n",
       "      <td>343564</td>\n",
       "      <td>343564</td>\n",
       "      <td>343564</td>\n",
       "      <td>343564</td>\n",
       "      <td>343564</td>\n",
       "    </tr>\n",
       "    <tr>\n",
       "      <th>4</th>\n",
       "      <td>120205</td>\n",
       "      <td>120205</td>\n",
       "      <td>38608</td>\n",
       "      <td>120205</td>\n",
       "      <td>120205</td>\n",
       "      <td>120205</td>\n",
       "      <td>120205</td>\n",
       "      <td>120205</td>\n",
       "    </tr>\n",
       "  </tbody>\n",
       "</table>\n",
       "</div>"
      ],
      "text/plain": [
       "                user_id   item_id  user_geohash  item_category      time  \\\n",
       "behavior_type                                                              \n",
       "1              11550581  11550581       3704666       11550581  11550581   \n",
       "2                242556    242556         74365         242556    242556   \n",
       "3                343564    343564        104443         343564    343564   \n",
       "4                120205    120205         38608         120205    120205   \n",
       "\n",
       "                   date      hour  operation  \n",
       "behavior_type                                 \n",
       "1              11550581  11550581   11550581  \n",
       "2                242556    242556     242556  \n",
       "3                343564    343564     343564  \n",
       "4                120205    120205     120205  "
      ]
     },
     "execution_count": 50,
     "metadata": {},
     "output_type": "execute_result"
    }
   ],
   "source": [
    "#漏斗流失分析\n",
    "\n",
    "data_user_count=data_user.groupby(['behavior_type']).count()# 分别计算点击、加入购物车、收藏、购买的用户数\n",
    "data_user_count.head()"
   ]
  },
  {
   "cell_type": "code",
   "execution_count": 51,
   "id": "dc67405a",
   "metadata": {},
   "outputs": [
    {
     "name": "stdout",
     "output_type": "stream",
     "text": [
      "12256906\n"
     ]
    }
   ],
   "source": [
    "pv_all=data_user['user_id'].count()#计算总用户数（即浏览量）\n",
    "print(pv_all)"
   ]
  },
  {
   "cell_type": "code",
   "execution_count": null,
   "id": "8df4feb4",
   "metadata": {},
   "outputs": [],
   "source": [
    "#通过计算即可知晓 每个流程的用户转化率与流失率"
   ]
  },
  {
   "cell_type": "code",
   "execution_count": 53,
   "id": "42cdfe4f",
   "metadata": {},
   "outputs": [
    {
     "data": {
      "text/html": [
       "<div>\n",
       "<style scoped>\n",
       "    .dataframe tbody tr th:only-of-type {\n",
       "        vertical-align: middle;\n",
       "    }\n",
       "\n",
       "    .dataframe tbody tr th {\n",
       "        vertical-align: top;\n",
       "    }\n",
       "\n",
       "    .dataframe thead th {\n",
       "        text-align: right;\n",
       "    }\n",
       "</style>\n",
       "<table border=\"1\" class=\"dataframe\">\n",
       "  <thead>\n",
       "    <tr style=\"text-align: right;\">\n",
       "      <th>behavior_type</th>\n",
       "      <th>点击量</th>\n",
       "      <th>加入购物车量</th>\n",
       "      <th>购买量</th>\n",
       "      <th>转化率</th>\n",
       "    </tr>\n",
       "    <tr>\n",
       "      <th>item_category</th>\n",
       "      <th></th>\n",
       "      <th></th>\n",
       "      <th></th>\n",
       "      <th></th>\n",
       "    </tr>\n",
       "  </thead>\n",
       "  <tbody>\n",
       "    <tr>\n",
       "      <th>2</th>\n",
       "      <td>3.0</td>\n",
       "      <td>0.0</td>\n",
       "      <td>0.0</td>\n",
       "      <td>0.000000</td>\n",
       "    </tr>\n",
       "    <tr>\n",
       "      <th>3</th>\n",
       "      <td>3.0</td>\n",
       "      <td>0.0</td>\n",
       "      <td>0.0</td>\n",
       "      <td>0.000000</td>\n",
       "    </tr>\n",
       "    <tr>\n",
       "      <th>4</th>\n",
       "      <td>1.0</td>\n",
       "      <td>0.0</td>\n",
       "      <td>0.0</td>\n",
       "      <td>0.000000</td>\n",
       "    </tr>\n",
       "    <tr>\n",
       "      <th>6</th>\n",
       "      <td>10.0</td>\n",
       "      <td>0.0</td>\n",
       "      <td>0.0</td>\n",
       "      <td>0.000000</td>\n",
       "    </tr>\n",
       "    <tr>\n",
       "      <th>8</th>\n",
       "      <td>976.0</td>\n",
       "      <td>4.0</td>\n",
       "      <td>4.0</td>\n",
       "      <td>0.004098</td>\n",
       "    </tr>\n",
       "    <tr>\n",
       "      <th>10</th>\n",
       "      <td>212.0</td>\n",
       "      <td>9.0</td>\n",
       "      <td>4.0</td>\n",
       "      <td>0.018868</td>\n",
       "    </tr>\n",
       "    <tr>\n",
       "      <th>11</th>\n",
       "      <td>8818.0</td>\n",
       "      <td>78.0</td>\n",
       "      <td>5.0</td>\n",
       "      <td>0.000567</td>\n",
       "    </tr>\n",
       "    <tr>\n",
       "      <th>12</th>\n",
       "      <td>194.0</td>\n",
       "      <td>14.0</td>\n",
       "      <td>5.0</td>\n",
       "      <td>0.025773</td>\n",
       "    </tr>\n",
       "    <tr>\n",
       "      <th>13</th>\n",
       "      <td>99.0</td>\n",
       "      <td>2.0</td>\n",
       "      <td>6.0</td>\n",
       "      <td>0.060606</td>\n",
       "    </tr>\n",
       "    <tr>\n",
       "      <th>15</th>\n",
       "      <td>682.0</td>\n",
       "      <td>4.0</td>\n",
       "      <td>4.0</td>\n",
       "      <td>0.005865</td>\n",
       "    </tr>\n",
       "  </tbody>\n",
       "</table>\n",
       "</div>"
      ],
      "text/plain": [
       "behavior_type     点击量  加入购物车量  购买量       转化率\n",
       "item_category                               \n",
       "2                 3.0     0.0  0.0  0.000000\n",
       "3                 3.0     0.0  0.0  0.000000\n",
       "4                 1.0     0.0  0.0  0.000000\n",
       "6                10.0     0.0  0.0  0.000000\n",
       "8               976.0     4.0  4.0  0.004098\n",
       "10              212.0     9.0  4.0  0.018868\n",
       "11             8818.0    78.0  5.0  0.000567\n",
       "12              194.0    14.0  5.0  0.025773\n",
       "13               99.0     2.0  6.0  0.060606\n",
       "15              682.0     4.0  4.0  0.005865"
      ]
     },
     "execution_count": 53,
     "metadata": {},
     "output_type": "execute_result"
    }
   ],
   "source": [
    "#不同用户行为不同商品类别的转化率\n",
    "data_category=data_user[data_user.behavior_type!=2].groupby(['item_category','behavior_type']).operation.count().unstack(1).rename(columns={1:'点击量',3:'加入购物车量',4:'购买量'}).fillna(0)#unstack 行旋转为列\n",
    "data_category['转化率']=data_category['购买量']/data_category['点击量']  #点击到购买的转化率\n",
    "data_category.head(10)"
   ]
  },
  {
   "cell_type": "code",
   "execution_count": 55,
   "id": "ed588589",
   "metadata": {},
   "outputs": [
    {
     "name": "stderr",
     "output_type": "stream",
     "text": [
      "F:\\anaconda\\lib\\site-packages\\seaborn\\distributions.py:2619: FutureWarning: `distplot` is a deprecated function and will be removed in a future version. Please adapt your code to use either `displot` (a figure-level function with similar flexibility) or `histplot` (an axes-level function for histograms).\n",
      "  warnings.warn(msg, FutureWarning)\n"
     ]
    },
    {
     "data": {
      "text/plain": [
       "<AxesSubplot:xlabel='转化率'>"
      ]
     },
     "execution_count": 55,
     "metadata": {},
     "output_type": "execute_result"
    },
    {
     "data": {
      "image/png": "[encoded data removed]",
      "text/plain": [
       "<Figure size 432x288 with 1 Axes>"
      ]
     },
     "metadata": {
      "needs_background": "light"
     },
     "output_type": "display_data"
    }
   ],
   "source": [
    "#异常值处理\n",
    "data_category=data_category.fillna(0)\n",
    "data_category=data_category[data_category['转化率']<=1]\n",
    "#转化率绘图\n",
    "sns.distplot(data_category[data_category['转化率']>0]['转化率'],kde=False)"
   ]
  },
  {
   "cell_type": "code",
   "execution_count": null,
   "id": "943dc541",
   "metadata": {},
   "outputs": [],
   "source": [
    "#不同商品类型的转化率大多在0.1左右，同时绝大多数用户都没有购买情况。"
   ]
  },
  {
   "cell_type": "code",
   "execution_count": 57,
   "id": "7b036489",
   "metadata": {},
   "outputs": [
    {
     "data": {
      "text/html": [
       "<div>\n",
       "<style scoped>\n",
       "    .dataframe tbody tr th:only-of-type {\n",
       "        vertical-align: middle;\n",
       "    }\n",
       "\n",
       "    .dataframe tbody tr th {\n",
       "        vertical-align: top;\n",
       "    }\n",
       "\n",
       "    .dataframe thead th {\n",
       "        text-align: right;\n",
       "    }\n",
       "</style>\n",
       "<table border=\"1\" class=\"dataframe\">\n",
       "  <thead>\n",
       "    <tr style=\"text-align: right;\">\n",
       "      <th>behavior_type</th>\n",
       "      <th>点击量</th>\n",
       "      <th>加入购物车量</th>\n",
       "      <th>购买量</th>\n",
       "      <th>转化率</th>\n",
       "      <th>感兴趣比率</th>\n",
       "    </tr>\n",
       "    <tr>\n",
       "      <th>item_category</th>\n",
       "      <th></th>\n",
       "      <th></th>\n",
       "      <th></th>\n",
       "      <th></th>\n",
       "      <th></th>\n",
       "    </tr>\n",
       "  </thead>\n",
       "  <tbody>\n",
       "    <tr>\n",
       "      <th>2</th>\n",
       "      <td>3.0</td>\n",
       "      <td>0.0</td>\n",
       "      <td>0.0</td>\n",
       "      <td>0.000000</td>\n",
       "      <td>0.000000</td>\n",
       "    </tr>\n",
       "    <tr>\n",
       "      <th>3</th>\n",
       "      <td>3.0</td>\n",
       "      <td>0.0</td>\n",
       "      <td>0.0</td>\n",
       "      <td>0.000000</td>\n",
       "      <td>0.000000</td>\n",
       "    </tr>\n",
       "    <tr>\n",
       "      <th>4</th>\n",
       "      <td>1.0</td>\n",
       "      <td>0.0</td>\n",
       "      <td>0.0</td>\n",
       "      <td>0.000000</td>\n",
       "      <td>0.000000</td>\n",
       "    </tr>\n",
       "    <tr>\n",
       "      <th>6</th>\n",
       "      <td>10.0</td>\n",
       "      <td>0.0</td>\n",
       "      <td>0.0</td>\n",
       "      <td>0.000000</td>\n",
       "      <td>0.000000</td>\n",
       "    </tr>\n",
       "    <tr>\n",
       "      <th>8</th>\n",
       "      <td>976.0</td>\n",
       "      <td>4.0</td>\n",
       "      <td>4.0</td>\n",
       "      <td>0.004098</td>\n",
       "      <td>0.004098</td>\n",
       "    </tr>\n",
       "    <tr>\n",
       "      <th>10</th>\n",
       "      <td>212.0</td>\n",
       "      <td>9.0</td>\n",
       "      <td>4.0</td>\n",
       "      <td>0.018868</td>\n",
       "      <td>0.042453</td>\n",
       "    </tr>\n",
       "    <tr>\n",
       "      <th>11</th>\n",
       "      <td>8818.0</td>\n",
       "      <td>78.0</td>\n",
       "      <td>5.0</td>\n",
       "      <td>0.000567</td>\n",
       "      <td>0.008846</td>\n",
       "    </tr>\n",
       "    <tr>\n",
       "      <th>12</th>\n",
       "      <td>194.0</td>\n",
       "      <td>14.0</td>\n",
       "      <td>5.0</td>\n",
       "      <td>0.025773</td>\n",
       "      <td>0.072165</td>\n",
       "    </tr>\n",
       "    <tr>\n",
       "      <th>13</th>\n",
       "      <td>99.0</td>\n",
       "      <td>2.0</td>\n",
       "      <td>6.0</td>\n",
       "      <td>0.060606</td>\n",
       "      <td>0.020202</td>\n",
       "    </tr>\n",
       "    <tr>\n",
       "      <th>15</th>\n",
       "      <td>682.0</td>\n",
       "      <td>4.0</td>\n",
       "      <td>4.0</td>\n",
       "      <td>0.005865</td>\n",
       "      <td>0.005865</td>\n",
       "    </tr>\n",
       "  </tbody>\n",
       "</table>\n",
       "</div>"
      ],
      "text/plain": [
       "behavior_type     点击量  加入购物车量  购买量       转化率     感兴趣比率\n",
       "item_category                                         \n",
       "2                 3.0     0.0  0.0  0.000000  0.000000\n",
       "3                 3.0     0.0  0.0  0.000000  0.000000\n",
       "4                 1.0     0.0  0.0  0.000000  0.000000\n",
       "6                10.0     0.0  0.0  0.000000  0.000000\n",
       "8               976.0     4.0  4.0  0.004098  0.004098\n",
       "10              212.0     9.0  4.0  0.018868  0.042453\n",
       "11             8818.0    78.0  5.0  0.000567  0.008846\n",
       "12              194.0    14.0  5.0  0.025773  0.072165\n",
       "13               99.0     2.0  6.0  0.060606  0.020202\n",
       "15              682.0     4.0  4.0  0.005865  0.005865"
      ]
     },
     "execution_count": 57,
     "metadata": {},
     "output_type": "execute_result"
    }
   ],
   "source": [
    "data_category['感兴趣比率']=data_category['加入购物车量']/data_category['点击量']\n",
    "data_category.head(10)"
   ]
  },
  {
   "cell_type": "code",
   "execution_count": 58,
   "id": "3c996373",
   "metadata": {},
   "outputs": [
    {
     "name": "stderr",
     "output_type": "stream",
     "text": [
      "F:\\anaconda\\lib\\site-packages\\seaborn\\distributions.py:2619: FutureWarning: `distplot` is a deprecated function and will be removed in a future version. Please adapt your code to use either `displot` (a figure-level function with similar flexibility) or `histplot` (an axes-level function for histograms).\n",
      "  warnings.warn(msg, FutureWarning)\n"
     ]
    },
    {
     "data": {
      "text/plain": [
       "<AxesSubplot:xlabel='感兴趣比率'>"
      ]
     },
     "execution_count": 58,
     "metadata": {},
     "output_type": "execute_result"
    },
    {
     "name": "stderr",
     "output_type": "stream",
     "text": [
      "F:\\anaconda\\lib\\site-packages\\matplotlib\\backends\\backend_agg.py:240: RuntimeWarning: Glyph 24863 missing from current font.\n",
      "  font.set_text(s, 0.0, flags=flags)\n",
      "F:\\anaconda\\lib\\site-packages\\matplotlib\\backends\\backend_agg.py:240: RuntimeWarning: Glyph 20852 missing from current font.\n",
      "  font.set_text(s, 0.0, flags=flags)\n",
      "F:\\anaconda\\lib\\site-packages\\matplotlib\\backends\\backend_agg.py:240: RuntimeWarning: Glyph 36259 missing from current font.\n",
      "  font.set_text(s, 0.0, flags=flags)\n",
      "F:\\anaconda\\lib\\site-packages\\matplotlib\\backends\\backend_agg.py:240: RuntimeWarning: Glyph 27604 missing from current font.\n",
      "  font.set_text(s, 0.0, flags=flags)\n",
      "F:\\anaconda\\lib\\site-packages\\matplotlib\\backends\\backend_agg.py:240: RuntimeWarning: Glyph 29575 missing from current font.\n",
      "  font.set_text(s, 0.0, flags=flags)\n",
      "F:\\anaconda\\lib\\site-packages\\matplotlib\\backends\\backend_agg.py:203: RuntimeWarning: Glyph 24863 missing from current font.\n",
      "  font.set_text(s, 0, flags=flags)\n",
      "F:\\anaconda\\lib\\site-packages\\matplotlib\\backends\\backend_agg.py:203: RuntimeWarning: Glyph 20852 missing from current font.\n",
      "  font.set_text(s, 0, flags=flags)\n",
      "F:\\anaconda\\lib\\site-packages\\matplotlib\\backends\\backend_agg.py:203: RuntimeWarning: Glyph 36259 missing from current font.\n",
      "  font.set_text(s, 0, flags=flags)\n",
      "F:\\anaconda\\lib\\site-packages\\matplotlib\\backends\\backend_agg.py:203: RuntimeWarning: Glyph 27604 missing from current font.\n",
      "  font.set_text(s, 0, flags=flags)\n",
      "F:\\anaconda\\lib\\site-packages\\matplotlib\\backends\\backend_agg.py:203: RuntimeWarning: Glyph 29575 missing from current font.\n",
      "  font.set_text(s, 0, flags=flags)\n"
     ]
    },
    {
     "data": {
      "image/png": "[encoded data removed]",
      "text/plain": [
       "<Figure size 432x288 with 1 Axes>"
      ]
     },
     "metadata": {
      "needs_background": "light"
     },
     "output_type": "display_data"
    }
   ],
   "source": [
    "#异常值处理，感兴趣比率绘图\n",
    "data_category=data_category[data_category['感兴趣比率']<=1]\n",
    "sns.distplot(data_category[data_category['感兴趣比率']>0]['感兴趣比率'],kde=False)"
   ]
  },
  {
   "cell_type": "code",
   "execution_count": null,
   "id": "e0601ef9",
   "metadata": {},
   "outputs": [],
   "source": [
    "#感兴趣率和转化率类似，基本也是0.1以内，说明用户点击的绝大多数商品并非感兴趣，需要重视推荐系统的调整。"
   ]
  },
  {
   "cell_type": "code",
   "execution_count": 59,
   "id": "95fe5928",
   "metadata": {},
   "outputs": [
    {
     "data": {
      "text/plain": [
       "(0.0, 0.1]     0.502693\n",
       "(-1.0, 0.0]    0.476885\n",
       "(0.1, 1.0]     0.020422\n",
       "Name: 转化率, dtype: float64"
      ]
     },
     "execution_count": 59,
     "metadata": {},
     "output_type": "execute_result"
    }
   ],
   "source": [
    "#将转化率分三类查看各类占比例\n",
    "data_convert_rate=pd.cut(data_category['转化率'],[-1,0,0.1,1]).value_counts()\n",
    "data_convert_rate=data_convert_rate/data_convert_rate.sum()\n",
    "data_convert_rate"
   ]
  },
  {
   "cell_type": "code",
   "execution_count": 61,
   "id": "8920fe00",
   "metadata": {},
   "outputs": [
    {
     "data": {
      "text/plain": [
       "(0.0, 0.1]     0.538487\n",
       "(-1.0, 0.0]    0.390373\n",
       "(0.1, 1.0]     0.071140\n",
       "Name: 感兴趣比率, dtype: float64"
      ]
     },
     "execution_count": 61,
     "metadata": {},
     "output_type": "execute_result"
    }
   ],
   "source": [
    "#将感兴趣比率分三类查看各类占比例\n",
    "data_interest_rate=pd.cut(data_category['感兴趣比率'],[-1,0,0.1,1]).value_counts()\n",
    "data_interest_rate=data_interest_rate/data_interest_rate.sum()\n",
    "data_interest_rate"
   ]
  },
  {
   "cell_type": "code",
   "execution_count": null,
   "id": "5af90ca9",
   "metadata": {},
   "outputs": [],
   "source": [
    "#转化率达到0.1以上仅仅只有2%的用户，有超过47.7%的用户几乎不会发生购买行为。同时从感兴趣比率来看：有39%的用户对商品不感兴趣。"
   ]
  },
  {
   "cell_type": "code",
   "execution_count": 69,
   "id": "e46af7f9",
   "metadata": {},
   "outputs": [],
   "source": [
    "#二八理论和长尾理论\n",
    "data_category=data_category[data_category['购买量']>0]\n",
    "value_8=data_category['购买量'].sum()*0.8\n",
    "value_10=data_category['购买量'].sum()\n",
    "data_category=data_category.sort_values(by='购买量',ascending=False)  #倒序"
   ]
  },
  {
   "cell_type": "code",
   "execution_count": 70,
   "id": "08125e5d",
   "metadata": {},
   "outputs": [
    {
     "data": {
      "text/html": [
       "<div>\n",
       "<style scoped>\n",
       "    .dataframe tbody tr th:only-of-type {\n",
       "        vertical-align: middle;\n",
       "    }\n",
       "\n",
       "    .dataframe tbody tr th {\n",
       "        vertical-align: top;\n",
       "    }\n",
       "\n",
       "    .dataframe thead th {\n",
       "        text-align: right;\n",
       "    }\n",
       "</style>\n",
       "<table border=\"1\" class=\"dataframe\">\n",
       "  <thead>\n",
       "    <tr style=\"text-align: right;\">\n",
       "      <th>behavior_type</th>\n",
       "      <th>点击量</th>\n",
       "      <th>加入购物车量</th>\n",
       "      <th>购买量</th>\n",
       "      <th>转化率</th>\n",
       "      <th>感兴趣比率</th>\n",
       "      <th>累计购买量</th>\n",
       "      <th>分类</th>\n",
       "    </tr>\n",
       "    <tr>\n",
       "      <th>item_category</th>\n",
       "      <th></th>\n",
       "      <th></th>\n",
       "      <th></th>\n",
       "      <th></th>\n",
       "      <th></th>\n",
       "      <th></th>\n",
       "      <th></th>\n",
       "    </tr>\n",
       "  </thead>\n",
       "  <tbody>\n",
       "    <tr>\n",
       "      <th>6344</th>\n",
       "      <td>85369.0</td>\n",
       "      <td>3822.0</td>\n",
       "      <td>2208.0</td>\n",
       "      <td>0.025864</td>\n",
       "      <td>0.044770</td>\n",
       "      <td>2208.0</td>\n",
       "      <td>前80%</td>\n",
       "    </tr>\n",
       "    <tr>\n",
       "      <th>1863</th>\n",
       "      <td>371738.0</td>\n",
       "      <td>9309.0</td>\n",
       "      <td>2000.0</td>\n",
       "      <td>0.005380</td>\n",
       "      <td>0.025042</td>\n",
       "      <td>4208.0</td>\n",
       "      <td>前80%</td>\n",
       "    </tr>\n",
       "    <tr>\n",
       "      <th>5232</th>\n",
       "      <td>135506.0</td>\n",
       "      <td>4486.0</td>\n",
       "      <td>1611.0</td>\n",
       "      <td>0.011889</td>\n",
       "      <td>0.033106</td>\n",
       "      <td>5819.0</td>\n",
       "      <td>前80%</td>\n",
       "    </tr>\n",
       "    <tr>\n",
       "      <th>6977</th>\n",
       "      <td>22806.0</td>\n",
       "      <td>2007.0</td>\n",
       "      <td>1324.0</td>\n",
       "      <td>0.058055</td>\n",
       "      <td>0.088003</td>\n",
       "      <td>7143.0</td>\n",
       "      <td>前80%</td>\n",
       "    </tr>\n",
       "    <tr>\n",
       "      <th>8877</th>\n",
       "      <td>63396.0</td>\n",
       "      <td>1974.0</td>\n",
       "      <td>1072.0</td>\n",
       "      <td>0.016910</td>\n",
       "      <td>0.031138</td>\n",
       "      <td>8215.0</td>\n",
       "      <td>前80%</td>\n",
       "    </tr>\n",
       "  </tbody>\n",
       "</table>\n",
       "</div>"
      ],
      "text/plain": [
       "behavior_type       点击量  加入购物车量     购买量       转化率     感兴趣比率   累计购买量    分类\n",
       "item_category                                                            \n",
       "6344            85369.0  3822.0  2208.0  0.025864  0.044770  2208.0  前80%\n",
       "1863           371738.0  9309.0  2000.0  0.005380  0.025042  4208.0  前80%\n",
       "5232           135506.0  4486.0  1611.0  0.011889  0.033106  5819.0  前80%\n",
       "6977            22806.0  2007.0  1324.0  0.058055  0.088003  7143.0  前80%\n",
       "8877            63396.0  1974.0  1072.0  0.016910  0.031138  8215.0  前80%"
      ]
     },
     "execution_count": 70,
     "metadata": {},
     "output_type": "execute_result"
    }
   ],
   "source": [
    "data_category['累计购买量']=data_category['购买量'].cumsum()#cusum 从第一行开始累计\n",
    "data_category['分类']=data_category['累计购买量'].map(lambda x:'前80%' if x<=value_8 else '后20%')\n",
    "data_category.head()"
   ]
  },
  {
   "cell_type": "code",
   "execution_count": 71,
   "id": "48dcd67d",
   "metadata": {},
   "outputs": [
    {
     "data": {
      "text/plain": [
       "分类\n",
       "前80%    0.155727\n",
       "后20%    0.844273\n",
       "Name: 分类, dtype: float64"
      ]
     },
     "execution_count": 71,
     "metadata": {},
     "output_type": "execute_result"
    }
   ],
   "source": [
    "data_category.groupby('分类')['分类'].count()/data_category['分类'].count()  #分别计算8、2占比"
   ]
  },
  {
   "cell_type": "code",
   "execution_count": null,
   "id": "972925be",
   "metadata": {},
   "outputs": [],
   "source": [
    "#前80%购买量有16%左右的商品品类承包，接近二八原则。"
   ]
  },
  {
   "cell_type": "code",
   "execution_count": 72,
   "id": "c4b9ba1f",
   "metadata": {},
   "outputs": [
    {
     "data": {
      "text/html": [
       "<div>\n",
       "<style scoped>\n",
       "    .dataframe tbody tr th:only-of-type {\n",
       "        vertical-align: middle;\n",
       "    }\n",
       "\n",
       "    .dataframe tbody tr th {\n",
       "        vertical-align: top;\n",
       "    }\n",
       "\n",
       "    .dataframe thead th {\n",
       "        text-align: right;\n",
       "    }\n",
       "</style>\n",
       "<table border=\"1\" class=\"dataframe\">\n",
       "  <thead>\n",
       "    <tr style=\"text-align: right;\">\n",
       "      <th></th>\n",
       "      <th>user_id</th>\n",
       "      <th>recent</th>\n",
       "      <th>freq</th>\n",
       "      <th>recent_value</th>\n",
       "      <th>freq_value</th>\n",
       "      <th>rfm</th>\n",
       "    </tr>\n",
       "  </thead>\n",
       "  <tbody>\n",
       "    <tr>\n",
       "      <th>0</th>\n",
       "      <td>4913</td>\n",
       "      <td>4</td>\n",
       "      <td>6</td>\n",
       "      <td>2</td>\n",
       "      <td>1</td>\n",
       "      <td>21</td>\n",
       "    </tr>\n",
       "    <tr>\n",
       "      <th>1</th>\n",
       "      <td>6118</td>\n",
       "      <td>3</td>\n",
       "      <td>1</td>\n",
       "      <td>2</td>\n",
       "      <td>1</td>\n",
       "      <td>21</td>\n",
       "    </tr>\n",
       "    <tr>\n",
       "      <th>2</th>\n",
       "      <td>7528</td>\n",
       "      <td>7</td>\n",
       "      <td>6</td>\n",
       "      <td>1</td>\n",
       "      <td>1</td>\n",
       "      <td>11</td>\n",
       "    </tr>\n",
       "    <tr>\n",
       "      <th>3</th>\n",
       "      <td>7591</td>\n",
       "      <td>7</td>\n",
       "      <td>21</td>\n",
       "      <td>1</td>\n",
       "      <td>2</td>\n",
       "      <td>12</td>\n",
       "    </tr>\n",
       "    <tr>\n",
       "      <th>4</th>\n",
       "      <td>12645</td>\n",
       "      <td>6</td>\n",
       "      <td>8</td>\n",
       "      <td>2</td>\n",
       "      <td>1</td>\n",
       "      <td>21</td>\n",
       "    </tr>\n",
       "  </tbody>\n",
       "</table>\n",
       "</div>"
      ],
      "text/plain": [
       "   user_id  recent  freq recent_value freq_value rfm\n",
       "0     4913       4     6            2          1  21\n",
       "1     6118       3     1            2          1  21\n",
       "2     7528       7     6            1          1  11\n",
       "3     7591       7    21            1          2  12\n",
       "4    12645       6     8            2          1  21"
      ]
     },
     "execution_count": 72,
     "metadata": {},
     "output_type": "execute_result"
    }
   ],
   "source": [
    "#用户价值度RFM模型分析\n",
    "'''\n",
    "R（Recency）：客户最近一次交易时间的间隔。R值越大，表示客户交易发生的日期越久，反之则表示客户交易发生的日期越近。\n",
    "F（Frequency）：客户在最近一段时间内交易的次数。F值越大，表示客户交易越频繁，反之则表示客户交易不够活跃。\n",
    "M（Monetary）：客户在最近一段时间内交易的金额。M值越大，表示客户价值越高，反之则表示客户价值越低。\n",
    "'''\n",
    "\n",
    "from datetime import datetime\n",
    "\n",
    "datenow=datetime(2014,12,20)\n",
    "\n",
    "#每位用户最近购买时间\n",
    "recent_buy_time=data_user[data_user.behavior_type==4].groupby('user_id').date.apply(lambda x:datetime(2014,12,20)-x.sort_values().iloc[-1]).reset_index().rename(columns={'date':'recent'})#升序排列的最后一行\n",
    "recent_buy_time.recent=recent_buy_time.recent.map(lambda x:x.days)  #取days的数据\n",
    "\n",
    "#每个用户消费频率（总消费次数）\n",
    "buy_freq=data_user[data_user.behavior_type==4].groupby('user_id').date.count().reset_index().rename(columns={'date':'freq'})\n",
    "rfm=pd.merge(recent_buy_time,buy_freq,left_on='user_id',right_on='user_id',how='outer')#两表拼接 left/right指定拼接主键 outer代表外连接\n",
    "\n",
    "#将各维度分成两个程度,分数越高越好\n",
    "rfm['recent_value']=pd.qcut(rfm.recent,2,labels=['2','1'])  #数据分箱 recent值的2分位数为界 1代表最近交易间隔久\n",
    "rfm['freq_value']=pd.qcut(rfm.freq,2,labels=['1','2'])  #1代表近期交易频率低\n",
    "rfm['rfm']=rfm['recent_value'].str.cat(rfm['freq_value']) #cat连接字符串\n",
    "rfm.head()"
   ]
  },
  {
   "cell_type": "code",
   "execution_count": null,
   "id": "b3fa9e6a",
   "metadata": {},
   "outputs": [],
   "source": [
    "#因为本数据集没有提供消费金额，因此只能R和F进行用户价值分析。\n",
    "#对于22用户，为重点用户需要关注；对于21这类忠诚度高而购买能力不足的，可以可以适当给点折扣或捆绑销售来增加用户的购买频率。对于12这类忠诚度不高而购买能力强的，需要关注他们的购物习性做精准化营销。"
   ]
  }
 ],
 "metadata": {
  "kernelspec": {
   "display_name": "Python 3 (ipykernel)",
   "language": "python",
   "name": "python3"
  },
  "language_info": {
   "codemirror_mode": {
    "name": "ipython",
    "version": 3
   },
   "file_extension": ".py",
   "mimetype": "text/x-python",
   "name": "python",
   "nbconvert_exporter": "python",
   "pygments_lexer": "ipython3",
   "version": "3.8.11"
  }
 },
 "nbformat": 4,
 "nbformat_minor": 5
}
